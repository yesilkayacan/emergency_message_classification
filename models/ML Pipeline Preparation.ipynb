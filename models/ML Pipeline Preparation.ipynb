{
 "cells": [
  {
   "cell_type": "markdown",
   "metadata": {},
   "source": [
    "# ML Pipeline Preparation\n",
    "Follow the instructions below to help you create your ML pipeline.\n",
    "### 1. Import libraries and load data from database.\n",
    "- Import Python libraries\n",
    "- Load dataset from database with [`read_sql_table`](https://pandas.pydata.org/pandas-docs/stable/generated/pandas.read_sql_table.html)\n",
    "- Define feature and target variables X and Y"
   ]
  },
  {
   "cell_type": "code",
   "execution_count": 1,
   "metadata": {},
   "outputs": [
    {
     "name": "stderr",
     "output_type": "stream",
     "text": [
      "[nltk_data] Downloading package punkt to /Users/macc/nltk_data...\n",
      "[nltk_data]   Package punkt is already up-to-date!\n",
      "[nltk_data] Downloading package stopwords to /Users/macc/nltk_data...\n",
      "[nltk_data]   Package stopwords is already up-to-date!\n",
      "[nltk_data] Downloading package wordnet to /Users/macc/nltk_data...\n",
      "[nltk_data]   Package wordnet is already up-to-date!\n"
     ]
    },
    {
     "data": {
      "text/plain": [
       "True"
      ]
     },
     "execution_count": 1,
     "metadata": {},
     "output_type": "execute_result"
    }
   ],
   "source": [
    "# import libraries\n",
    "import pandas as pd\n",
    "from sqlalchemy import create_engine\n",
    "\n",
    "from sklearn.pipeline import Pipeline\n",
    "from sklearn.model_selection import train_test_split\n",
    "from sklearn.feature_extraction.text import CountVectorizer, TfidfTransformer\n",
    "from sklearn.ensemble import RandomForestClassifier\n",
    "from sklearn.model_selection import GridSearchCV\n",
    "from sklearn.multioutput import MultiOutputClassifier\n",
    "from sklearn.metrics import classification_report\n",
    "\n",
    "import re\n",
    "import nltk\n",
    "from nltk.corpus import stopwords\n",
    "from nltk.stem.wordnet import WordNetLemmatizer\n",
    "from nltk.tokenize import word_tokenize\n",
    "\n",
    "nltk.download('punkt')\n",
    "nltk.download('stopwords')\n",
    "nltk.download('wordnet')"
   ]
  },
  {
   "cell_type": "code",
   "execution_count": 2,
   "metadata": {
    "scrolled": false
   },
   "outputs": [],
   "source": [
    "# load data from database\n",
    "engine = create_engine('sqlite:///../data/DisasterResponse.db')\n",
    "df = pd.read_sql_table('DisasterMessageTable', engine)\n",
    "X = df['message'].values\n",
    "Y = df[df.columns[4:]].values"
   ]
  },
  {
   "cell_type": "markdown",
   "metadata": {},
   "source": [
    "### 2. Write a tokenization function to process your text data"
   ]
  },
  {
   "cell_type": "code",
   "execution_count": 3,
   "metadata": {},
   "outputs": [],
   "source": [
    "def tokenize(text):\n",
    "    stop_words = stopwords.words(\"english\")\n",
    "    \n",
    "    text = re.sub(r\"[a-zA-Z0-9]\", \" \", text.lower())\n",
    "    \n",
    "    tokens = word_tokenize(text)\n",
    "    lemmatizer = WordNetLemmatizer()\n",
    "    \n",
    "    clean_tokens = [lemmatizer.lemmatize(tok).strip() for tok in tokens if tok not in stop_words]\n",
    "\n",
    "    return clean_tokens"
   ]
  },
  {
   "cell_type": "markdown",
   "metadata": {},
   "source": [
    "### 3. Build a machine learning pipeline\n",
    "This machine pipeline should take in the `message` column as input and output classification results on the other 36 categories in the dataset. You may find the [MultiOutputClassifier](http://scikit-learn.org/stable/modules/generated/sklearn.multioutput.MultiOutputClassifier.html) helpful for predicting multiple target variables."
   ]
  },
  {
   "cell_type": "code",
   "execution_count": 4,
   "metadata": {},
   "outputs": [],
   "source": [
    "pipeline = Pipeline([\n",
    "        ('vect', CountVectorizer(tokenizer=tokenize)),\n",
    "        ('tfidf', TfidfTransformer()),\n",
    "        ('clf', MultiOutputClassifier(RandomForestClassifier()))\n",
    "        ])"
   ]
  },
  {
   "cell_type": "markdown",
   "metadata": {},
   "source": [
    "### 4. Train pipeline\n",
    "- Split data into train and test sets\n",
    "- Train pipeline"
   ]
  },
  {
   "cell_type": "code",
   "execution_count": 5,
   "metadata": {},
   "outputs": [],
   "source": [
    "X_train, X_test, y_train, y_test = train_test_split(X, Y, test_size=0.2)"
   ]
  },
  {
   "cell_type": "code",
   "execution_count": 6,
   "metadata": {
    "scrolled": false
   },
   "outputs": [
    {
     "data": {
      "text/plain": [
       "Pipeline(steps=[('vect',\n",
       "                 CountVectorizer(tokenizer=<function tokenize at 0x1a24f8f8c0>)),\n",
       "                ('tfidf', TfidfTransformer()),\n",
       "                ('clf',\n",
       "                 MultiOutputClassifier(estimator=RandomForestClassifier()))])"
      ]
     },
     "execution_count": 6,
     "metadata": {},
     "output_type": "execute_result"
    }
   ],
   "source": [
    "pipeline.fit(X_train, y_train)"
   ]
  },
  {
   "cell_type": "markdown",
   "metadata": {},
   "source": [
    "### 5. Test your model\n",
    "Report the f1 score, precision and recall for each output category of the dataset. You can do this by iterating through the columns and calling sklearn's `classification_report` on each."
   ]
  },
  {
   "cell_type": "code",
   "execution_count": 7,
   "metadata": {},
   "outputs": [],
   "source": [
    "y_pred = pipeline.predict(X_test)"
   ]
  },
  {
   "cell_type": "code",
   "execution_count": 9,
   "metadata": {
    "scrolled": true
   },
   "outputs": [
    {
     "name": "stdout",
     "output_type": "stream",
     "text": [
      "related :\n",
      "              precision    recall  f1-score   support\n",
      "\n",
      "           0       0.47      0.06      0.10      1253\n",
      "           1       0.76      0.98      0.86      3954\n",
      "           2       0.00      0.00      0.00        29\n",
      "\n",
      "    accuracy                           0.75      5236\n",
      "   macro avg       0.41      0.35      0.32      5236\n",
      "weighted avg       0.69      0.75      0.67      5236\n",
      "\n",
      "request :\n",
      "              precision    recall  f1-score   support\n",
      "\n",
      "           0       0.84      0.98      0.91      4360\n",
      "           1       0.46      0.07      0.13       876\n",
      "\n",
      "    accuracy                           0.83      5236\n",
      "   macro avg       0.65      0.53      0.52      5236\n",
      "weighted avg       0.78      0.83      0.78      5236\n",
      "\n",
      "offer :\n",
      "              precision    recall  f1-score   support\n",
      "\n",
      "           0       0.99      1.00      1.00      5205\n",
      "           1       0.00      0.00      0.00        31\n",
      "\n",
      "    accuracy                           0.99      5236\n",
      "   macro avg       0.50      0.50      0.50      5236\n",
      "weighted avg       0.99      0.99      0.99      5236\n",
      "\n",
      "aid_related :\n",
      "              precision    recall  f1-score   support\n",
      "\n",
      "           0       0.64      0.77      0.70      3090\n",
      "           1       0.53      0.37      0.44      2146\n",
      "\n",
      "    accuracy                           0.61      5236\n",
      "   macro avg       0.58      0.57      0.57      5236\n",
      "weighted avg       0.59      0.61      0.59      5236\n",
      "\n",
      "medical_help :\n",
      "              precision    recall  f1-score   support\n",
      "\n",
      "           0       0.92      1.00      0.96      4809\n",
      "           1       0.30      0.02      0.04       427\n",
      "\n",
      "    accuracy                           0.92      5236\n",
      "   macro avg       0.61      0.51      0.50      5236\n",
      "weighted avg       0.87      0.92      0.88      5236\n",
      "\n",
      "medical_products :\n",
      "              precision    recall  f1-score   support\n",
      "\n",
      "           0       0.95      1.00      0.97      4971\n",
      "           1       0.32      0.03      0.06       265\n",
      "\n",
      "    accuracy                           0.95      5236\n",
      "   macro avg       0.64      0.51      0.51      5236\n",
      "weighted avg       0.92      0.95      0.93      5236\n",
      "\n",
      "search_and_rescue :\n",
      "              precision    recall  f1-score   support\n",
      "\n",
      "           0       0.98      1.00      0.99      5109\n",
      "           1       0.00      0.00      0.00       127\n",
      "\n",
      "    accuracy                           0.97      5236\n",
      "   macro avg       0.49      0.50      0.49      5236\n",
      "weighted avg       0.95      0.97      0.96      5236\n",
      "\n",
      "security :\n",
      "              precision    recall  f1-score   support\n",
      "\n",
      "           0       0.98      1.00      0.99      5126\n",
      "           1       0.50      0.01      0.02       110\n",
      "\n",
      "    accuracy                           0.98      5236\n",
      "   macro avg       0.74      0.50      0.50      5236\n",
      "weighted avg       0.97      0.98      0.97      5236\n",
      "\n",
      "military :\n",
      "              precision    recall  f1-score   support\n",
      "\n",
      "           0       0.97      1.00      0.98      5059\n",
      "           1       0.08      0.01      0.01       177\n",
      "\n",
      "    accuracy                           0.96      5236\n",
      "   macro avg       0.52      0.50      0.50      5236\n",
      "weighted avg       0.94      0.96      0.95      5236\n",
      "\n",
      "child_alone :\n",
      "              precision    recall  f1-score   support\n",
      "\n",
      "           0       1.00      1.00      1.00      5236\n",
      "\n",
      "    accuracy                           1.00      5236\n",
      "   macro avg       1.00      1.00      1.00      5236\n",
      "weighted avg       1.00      1.00      1.00      5236\n",
      "\n",
      "water :\n",
      "              precision    recall  f1-score   support\n",
      "\n",
      "           0       0.94      1.00      0.96      4893\n",
      "           1       0.25      0.02      0.04       343\n",
      "\n",
      "    accuracy                           0.93      5236\n",
      "   macro avg       0.59      0.51      0.50      5236\n",
      "weighted avg       0.89      0.93      0.90      5236\n",
      "\n",
      "food :\n",
      "              precision    recall  f1-score   support\n",
      "\n",
      "           0       0.89      0.99      0.94      4647\n",
      "           1       0.41      0.04      0.08       589\n",
      "\n",
      "    accuracy                           0.89      5236\n",
      "   macro avg       0.65      0.52      0.51      5236\n",
      "weighted avg       0.84      0.89      0.84      5236\n",
      "\n",
      "shelter :\n",
      "              precision    recall  f1-score   support\n",
      "\n",
      "           0       0.92      0.99      0.95      4795\n",
      "           1       0.14      0.02      0.03       441\n",
      "\n",
      "    accuracy                           0.91      5236\n",
      "   macro avg       0.53      0.50      0.49      5236\n",
      "weighted avg       0.85      0.91      0.87      5236\n",
      "\n",
      "clothing :\n",
      "              precision    recall  f1-score   support\n",
      "\n",
      "           0       0.98      1.00      0.99      5146\n",
      "           1       0.14      0.01      0.02        90\n",
      "\n",
      "    accuracy                           0.98      5236\n",
      "   macro avg       0.56      0.50      0.51      5236\n",
      "weighted avg       0.97      0.98      0.97      5236\n",
      "\n",
      "money :\n",
      "              precision    recall  f1-score   support\n",
      "\n",
      "           0       0.98      1.00      0.99      5116\n",
      "           1       0.06      0.01      0.01       120\n",
      "\n",
      "    accuracy                           0.97      5236\n",
      "   macro avg       0.52      0.50      0.50      5236\n",
      "weighted avg       0.96      0.97      0.96      5236\n",
      "\n",
      "missing_people :\n",
      "              precision    recall  f1-score   support\n",
      "\n",
      "           0       0.99      1.00      0.99      5175\n",
      "           1       0.00      0.00      0.00        61\n",
      "\n",
      "    accuracy                           0.99      5236\n",
      "   macro avg       0.49      0.50      0.50      5236\n",
      "weighted avg       0.98      0.99      0.98      5236\n",
      "\n",
      "refugees :\n",
      "              precision    recall  f1-score   support\n",
      "\n",
      "           0       0.97      1.00      0.98      5064\n",
      "           1       0.13      0.01      0.02       172\n",
      "\n",
      "    accuracy                           0.97      5236\n",
      "   macro avg       0.55      0.50      0.50      5236\n",
      "weighted avg       0.94      0.97      0.95      5236\n",
      "\n",
      "death :\n",
      "              precision    recall  f1-score   support\n",
      "\n",
      "           0       0.96      1.00      0.98      5017\n",
      "           1       0.24      0.02      0.04       219\n",
      "\n",
      "    accuracy                           0.96      5236\n",
      "   macro avg       0.60      0.51      0.51      5236\n",
      "weighted avg       0.93      0.96      0.94      5236\n",
      "\n",
      "other_aid :\n",
      "              precision    recall  f1-score   support\n",
      "\n",
      "           0       0.87      0.99      0.92      4533\n",
      "           1       0.23      0.02      0.03       703\n",
      "\n",
      "    accuracy                           0.86      5236\n",
      "   macro avg       0.55      0.50      0.48      5236\n",
      "weighted avg       0.78      0.86      0.81      5236\n",
      "\n",
      "infrastructure_related :\n",
      "              precision    recall  f1-score   support\n",
      "\n",
      "           0       0.94      1.00      0.97      4925\n",
      "           1       0.21      0.02      0.04       311\n",
      "\n",
      "    accuracy                           0.94      5236\n",
      "   macro avg       0.58      0.51      0.50      5236\n",
      "weighted avg       0.90      0.94      0.91      5236\n",
      "\n",
      "transport :\n",
      "              precision    recall  f1-score   support\n",
      "\n",
      "           0       0.95      1.00      0.98      4999\n",
      "           1       0.20      0.00      0.01       237\n",
      "\n",
      "    accuracy                           0.95      5236\n",
      "   macro avg       0.58      0.50      0.49      5236\n",
      "weighted avg       0.92      0.95      0.93      5236\n",
      "\n",
      "buildings :\n",
      "              precision    recall  f1-score   support\n",
      "\n",
      "           0       0.95      1.00      0.97      4972\n",
      "           1       0.14      0.01      0.01       264\n",
      "\n",
      "    accuracy                           0.95      5236\n",
      "   macro avg       0.55      0.50      0.49      5236\n",
      "weighted avg       0.91      0.95      0.92      5236\n",
      "\n",
      "electricity :\n",
      "              precision    recall  f1-score   support\n",
      "\n",
      "           0       0.98      1.00      0.99      5142\n",
      "           1       0.17      0.01      0.02        94\n",
      "\n",
      "    accuracy                           0.98      5236\n",
      "   macro avg       0.57      0.50      0.51      5236\n",
      "weighted avg       0.97      0.98      0.97      5236\n",
      "\n",
      "tools :\n",
      "              precision    recall  f1-score   support\n",
      "\n",
      "           0       1.00      1.00      1.00      5212\n",
      "           1       0.00      0.00      0.00        24\n",
      "\n",
      "    accuracy                           1.00      5236\n",
      "   macro avg       0.50      0.50      0.50      5236\n",
      "weighted avg       0.99      1.00      0.99      5236\n",
      "\n",
      "hospitals :\n",
      "              precision    recall  f1-score   support\n",
      "\n",
      "           0       0.99      1.00      0.99      5186\n",
      "           1       0.00      0.00      0.00        50\n",
      "\n",
      "    accuracy                           0.99      5236\n",
      "   macro avg       0.50      0.50      0.50      5236\n",
      "weighted avg       0.98      0.99      0.99      5236\n",
      "\n",
      "shops :\n",
      "              precision    recall  f1-score   support\n",
      "\n",
      "           0       1.00      1.00      1.00      5214\n",
      "           1       0.00      0.00      0.00        22\n",
      "\n",
      "    accuracy                           1.00      5236\n",
      "   macro avg       0.50      0.50      0.50      5236\n",
      "weighted avg       0.99      1.00      0.99      5236\n",
      "\n",
      "aid_centers :\n",
      "              precision    recall  f1-score   support\n",
      "\n",
      "           0       0.99      1.00      0.99      5175\n",
      "           1       0.00      0.00      0.00        61\n",
      "\n",
      "    accuracy                           0.99      5236\n",
      "   macro avg       0.49      0.50      0.50      5236\n",
      "weighted avg       0.98      0.99      0.98      5236\n",
      "\n",
      "other_infrastructure :\n",
      "              precision    recall  f1-score   support\n",
      "\n",
      "           0       0.96      1.00      0.98      5030\n",
      "           1       0.22      0.02      0.04       206\n",
      "\n",
      "    accuracy                           0.96      5236\n",
      "   macro avg       0.59      0.51      0.51      5236\n",
      "weighted avg       0.93      0.96      0.94      5236\n",
      "\n",
      "weather_related :\n",
      "              precision    recall  f1-score   support\n",
      "\n",
      "           0       0.74      0.96      0.83      3748\n",
      "           1       0.57      0.15      0.23      1488\n",
      "\n",
      "    accuracy                           0.73      5236\n",
      "   macro avg       0.65      0.55      0.53      5236\n",
      "weighted avg       0.69      0.73      0.66      5236\n",
      "\n",
      "floods :\n",
      "              precision    recall  f1-score   support\n",
      "\n",
      "           0       0.92      1.00      0.95      4791\n",
      "           1       0.37      0.03      0.05       445\n",
      "\n",
      "    accuracy                           0.91      5236\n",
      "   macro avg       0.64      0.51      0.50      5236\n",
      "weighted avg       0.87      0.91      0.88      5236\n",
      "\n",
      "storm :\n",
      "              precision    recall  f1-score   support\n",
      "\n",
      "           0       0.91      0.99      0.95      4730\n",
      "           1       0.53      0.10      0.17       506\n",
      "\n",
      "    accuracy                           0.90      5236\n",
      "   macro avg       0.72      0.55      0.56      5236\n",
      "weighted avg       0.87      0.90      0.87      5236\n",
      "\n",
      "fire :\n",
      "              precision    recall  f1-score   support\n",
      "\n",
      "           0       0.99      1.00      0.99      5174\n",
      "           1       0.00      0.00      0.00        62\n",
      "\n",
      "    accuracy                           0.99      5236\n",
      "   macro avg       0.49      0.50      0.50      5236\n",
      "weighted avg       0.98      0.99      0.98      5236\n",
      "\n",
      "earthquake :\n",
      "              precision    recall  f1-score   support\n",
      "\n",
      "           0       0.91      0.99      0.95      4744\n",
      "           1       0.37      0.04      0.07       492\n",
      "\n",
      "    accuracy                           0.90      5236\n",
      "   macro avg       0.64      0.52      0.51      5236\n",
      "weighted avg       0.86      0.90      0.87      5236\n",
      "\n",
      "cold :\n",
      "              precision    recall  f1-score   support\n",
      "\n",
      "           0       0.98      1.00      0.99      5127\n",
      "           1       0.00      0.00      0.00       109\n",
      "\n",
      "    accuracy                           0.98      5236\n",
      "   macro avg       0.49      0.50      0.49      5236\n",
      "weighted avg       0.96      0.98      0.97      5236\n",
      "\n",
      "other_weather :\n",
      "              precision    recall  f1-score   support\n",
      "\n",
      "           0       0.95      1.00      0.97      4953\n",
      "           1       0.12      0.01      0.01       283\n",
      "\n",
      "    accuracy                           0.94      5236\n",
      "   macro avg       0.54      0.50      0.49      5236\n",
      "weighted avg       0.90      0.94      0.92      5236\n",
      "\n",
      "direct_report :\n",
      "              precision    recall  f1-score   support\n",
      "\n",
      "           0       0.82      0.98      0.89      4241\n",
      "           1       0.45      0.08      0.14       995\n",
      "\n",
      "    accuracy                           0.81      5236\n",
      "   macro avg       0.64      0.53      0.52      5236\n",
      "weighted avg       0.75      0.81      0.75      5236\n",
      "\n"
     ]
    },
    {
     "name": "stderr",
     "output_type": "stream",
     "text": [
      "/Users/macc/opt/anaconda3/envs/udacity_env/lib/python3.7/site-packages/sklearn/metrics/_classification.py:1221: UndefinedMetricWarning: Precision and F-score are ill-defined and being set to 0.0 in labels with no predicted samples. Use `zero_division` parameter to control this behavior.\n",
      "  _warn_prf(average, modifier, msg_start, len(result))\n"
     ]
    }
   ],
   "source": [
    "target_names = df.columns[4:]\n",
    "\n",
    "for i in range(len(target_names)):\n",
    "    print(target_names[i], ':')\n",
    "    print(classification_report(y_test[:,i], y_pred[:,i]))"
   ]
  },
  {
   "cell_type": "markdown",
   "metadata": {},
   "source": [
    "### 6. Improve your model\n",
    "Use grid search to find better parameters. "
   ]
  },
  {
   "cell_type": "code",
   "execution_count": 15,
   "metadata": {},
   "outputs": [
    {
     "data": {
      "text/plain": [
       "dict_keys(['memory', 'steps', 'verbose', 'vect', 'tfidf', 'clf', 'vect__analyzer', 'vect__binary', 'vect__decode_error', 'vect__dtype', 'vect__encoding', 'vect__input', 'vect__lowercase', 'vect__max_df', 'vect__max_features', 'vect__min_df', 'vect__ngram_range', 'vect__preprocessor', 'vect__stop_words', 'vect__strip_accents', 'vect__token_pattern', 'vect__tokenizer', 'vect__vocabulary', 'tfidf__norm', 'tfidf__smooth_idf', 'tfidf__sublinear_tf', 'tfidf__use_idf', 'clf__estimator__bootstrap', 'clf__estimator__ccp_alpha', 'clf__estimator__class_weight', 'clf__estimator__criterion', 'clf__estimator__max_depth', 'clf__estimator__max_features', 'clf__estimator__max_leaf_nodes', 'clf__estimator__max_samples', 'clf__estimator__min_impurity_decrease', 'clf__estimator__min_impurity_split', 'clf__estimator__min_samples_leaf', 'clf__estimator__min_samples_split', 'clf__estimator__min_weight_fraction_leaf', 'clf__estimator__n_estimators', 'clf__estimator__n_jobs', 'clf__estimator__oob_score', 'clf__estimator__random_state', 'clf__estimator__verbose', 'clf__estimator__warm_start', 'clf__estimator', 'clf__n_jobs'])"
      ]
     },
     "execution_count": 15,
     "metadata": {},
     "output_type": "execute_result"
    }
   ],
   "source": [
    "pipeline.get_params().keys()"
   ]
  },
  {
   "cell_type": "code",
   "execution_count": null,
   "metadata": {
    "scrolled": false
   },
   "outputs": [],
   "source": [
    "parameters = {'clf__estimator__n_estimators': [50, 100, 200]}\n",
    "\n",
    "cv = GridSearchCV(pipeline, param_grid=parameters)\n",
    "cv.fit(X_train, y_train)"
   ]
  },
  {
   "cell_type": "markdown",
   "metadata": {},
   "source": [
    "### 7. Test your model\n",
    "Show the accuracy, precision, and recall of the tuned model.  \n",
    "\n",
    "Since this project focuses on code quality, process, and  pipelines, there is no minimum performance metric needed to pass. However, make sure to fine tune your models for accuracy, precision and recall to make your project stand out - especially for your portfolio!"
   ]
  },
  {
   "cell_type": "code",
   "execution_count": null,
   "metadata": {},
   "outputs": [],
   "source": []
  },
  {
   "cell_type": "markdown",
   "metadata": {},
   "source": [
    "### 8. Try improving your model further. Here are a few ideas:\n",
    "* try other machine learning algorithms\n",
    "* add other features besides the TF-IDF"
   ]
  },
  {
   "cell_type": "code",
   "execution_count": null,
   "metadata": {},
   "outputs": [],
   "source": []
  },
  {
   "cell_type": "markdown",
   "metadata": {},
   "source": [
    "### 9. Export your model as a pickle file"
   ]
  },
  {
   "cell_type": "code",
   "execution_count": null,
   "metadata": {},
   "outputs": [],
   "source": []
  },
  {
   "cell_type": "markdown",
   "metadata": {},
   "source": [
    "### 10. Use this notebook to complete `train.py`\n",
    "Use the template file attached in the Resources folder to write a script that runs the steps above to create a database and export a model based on a new dataset specified by the user."
   ]
  },
  {
   "cell_type": "code",
   "execution_count": null,
   "metadata": {},
   "outputs": [],
   "source": []
  }
 ],
 "metadata": {
  "kernelspec": {
   "display_name": "Python 3",
   "language": "python",
   "name": "python3"
  },
  "language_info": {
   "codemirror_mode": {
    "name": "ipython",
    "version": 3
   },
   "file_extension": ".py",
   "mimetype": "text/x-python",
   "name": "python",
   "nbconvert_exporter": "python",
   "pygments_lexer": "ipython3",
   "version": "3.7.6"
  }
 },
 "nbformat": 4,
 "nbformat_minor": 2
}
